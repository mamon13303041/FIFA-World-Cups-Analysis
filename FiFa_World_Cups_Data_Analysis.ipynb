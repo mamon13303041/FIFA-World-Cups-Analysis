{
  "nbformat": 4,
  "nbformat_minor": 0,
  "metadata": {
    "colab": {
      "provenance": [],
      "collapsed_sections": [],
      "authorship_tag": "ABX9TyPgSA93eD70+OS0dtwDCnXo",
      "include_colab_link": true
    },
    "kernelspec": {
      "name": "python3",
      "display_name": "Python 3"
    },
    "language_info": {
      "name": "python"
    }
  },
  "cells": [
    {
      "cell_type": "markdown",
      "metadata": {
        "id": "view-in-github",
        "colab_type": "text"
      },
      "source": [
        "<a href=\"https://colab.research.google.com/github/mamon13303041/FIFA-World-Cups-Analysis/blob/main/FiFa_World_Cups_Data_Analysis.ipynb\" target=\"_parent\"><img src=\"https://colab.research.google.com/assets/colab-badge.svg\" alt=\"Open In Colab\"/></a>"
      ]
    },
    {
      "cell_type": "markdown",
      "source": [
        "**Content**\n",
        "--Data Cleaning\n",
        "Visualization:\n",
        "\n",
        "Most Number of World Cup Winning Title\n",
        "Number of Goal Per Countary\n",
        "Attendance, Number of Teams, Goals, and Matches per Cup\n",
        "Goals Per Team Per World Cup\n",
        "Matches With Heihest Number Of Attendance\n",
        "Stadium with Highest Average Attendance\n",
        "Which countries had won the cup ?\n",
        "Number of goal per country\n",
        "Match outcome by home and away temas"
      ],
      "metadata": {
        "id": "qrYNjULDGqeV"
      }
    },
    {
      "cell_type": "code",
      "execution_count": 3,
      "metadata": {
        "id": "ynH6HPaV-hJy"
      },
      "outputs": [],
      "source": [
        "import pandas as pd\n",
        "import matplotlib.pyplot as plt\n",
        "import seaborn as sns\n",
        "%matplotlib inline\n",
        "import plotly as py\n"
      ]
    },
    {
      "cell_type": "code",
      "source": [
        "world_cup_df=pd.read_csv('/content/sample_data/world_cups/WorldCups.csv')\n",
        "world_cup_df.head(50)\n",
        "\n"
      ],
      "metadata": {
        "id": "_vQZfjAP_w2i"
      },
      "execution_count": null,
      "outputs": []
    },
    {
      "cell_type": "code",
      "source": [
        "world_cup_players_df=pd.read_csv('/content/sample_data/world_cups/WorldCupPlayers.csv')\n",
        "world_cup_players_df.head()"
      ],
      "metadata": {
        "id": "OUo-g6mBAOhq"
      },
      "execution_count": null,
      "outputs": []
    },
    {
      "cell_type": "code",
      "source": [
        "world_cup_matches_df=pd.read_csv('/content/sample_data/world_cups/WorldCupMatches.csv')\n",
        "\n",
        "world_cup_matches_df.head()"
      ],
      "metadata": {
        "id": "_moebYbaAg6J",
        "colab": {
          "base_uri": "https://localhost:8080/",
          "height": 496
        },
        "outputId": "7c4d47d2-8982-4f04-f0c7-3ddfedafc9de"
      },
      "execution_count": 67,
      "outputs": [
        {
          "output_type": "execute_result",
          "data": {
            "text/plain": [
              "     Year              Datetime    Stage         Stadium         City  \\\n",
              "0  1930.0  13 Jul 1930 - 15:00   Group 1         Pocitos  Montevideo    \n",
              "1  1930.0  13 Jul 1930 - 15:00   Group 4  Parque Central  Montevideo    \n",
              "2  1930.0  14 Jul 1930 - 12:45   Group 2  Parque Central  Montevideo    \n",
              "3  1930.0  14 Jul 1930 - 14:50   Group 3         Pocitos  Montevideo    \n",
              "4  1930.0  15 Jul 1930 - 16:00   Group 1  Parque Central  Montevideo    \n",
              "\n",
              "  Home Team Name  Home Team Goals  Away Team Goals Away Team Name  \\\n",
              "0         France              4.0              1.0         Mexico   \n",
              "1            USA              3.0              0.0        Belgium   \n",
              "2     Yugoslavia              2.0              1.0         Brazil   \n",
              "3        Romania              3.0              1.0           Peru   \n",
              "4      Argentina              1.0              0.0         France   \n",
              "\n",
              "  Win conditions  Attendance  Half-time Home Goals  Half-time Away Goals  \\\n",
              "0                     4444.0                   3.0                   0.0   \n",
              "1                    18346.0                   2.0                   0.0   \n",
              "2                    24059.0                   2.0                   0.0   \n",
              "3                     2549.0                   1.0                   0.0   \n",
              "4                    23409.0                   0.0                   0.0   \n",
              "\n",
              "                  Referee               Assistant 1  \\\n",
              "0  LOMBARDI Domingo (URU)     CRISTOPHE Henry (BEL)   \n",
              "1       MACIAS Jose (ARG)  MATEUCCI Francisco (URU)   \n",
              "2     TEJADA Anibal (URU)   VALLARINO Ricardo (URU)   \n",
              "3   WARNKEN Alberto (CHI)       LANGENUS Jean (BEL)   \n",
              "4     REGO Gilberto (BRA)      SAUCEDO Ulises (BOL)   \n",
              "\n",
              "                  Assistant 2  RoundID  MatchID Home Team Initials  \\\n",
              "0         REGO Gilberto (BRA)    201.0   1096.0                FRA   \n",
              "1       WARNKEN Alberto (CHI)    201.0   1090.0                USA   \n",
              "2         BALWAY Thomas (FRA)    201.0   1093.0                YUG   \n",
              "3    MATEUCCI Francisco (URU)    201.0   1098.0                ROU   \n",
              "4  RADULESCU Constantin (ROU)    201.0   1085.0                ARG   \n",
              "\n",
              "  Away Team Initials  \n",
              "0                MEX  \n",
              "1                BEL  \n",
              "2                BRA  \n",
              "3                PER  \n",
              "4                FRA  "
            ],
            "text/html": [
              "\n",
              "  <div id=\"df-19842a78-9be9-4e6e-b408-efa8e34f85b5\">\n",
              "    <div class=\"colab-df-container\">\n",
              "      <div>\n",
              "<style scoped>\n",
              "    .dataframe tbody tr th:only-of-type {\n",
              "        vertical-align: middle;\n",
              "    }\n",
              "\n",
              "    .dataframe tbody tr th {\n",
              "        vertical-align: top;\n",
              "    }\n",
              "\n",
              "    .dataframe thead th {\n",
              "        text-align: right;\n",
              "    }\n",
              "</style>\n",
              "<table border=\"1\" class=\"dataframe\">\n",
              "  <thead>\n",
              "    <tr style=\"text-align: right;\">\n",
              "      <th></th>\n",
              "      <th>Year</th>\n",
              "      <th>Datetime</th>\n",
              "      <th>Stage</th>\n",
              "      <th>Stadium</th>\n",
              "      <th>City</th>\n",
              "      <th>Home Team Name</th>\n",
              "      <th>Home Team Goals</th>\n",
              "      <th>Away Team Goals</th>\n",
              "      <th>Away Team Name</th>\n",
              "      <th>Win conditions</th>\n",
              "      <th>Attendance</th>\n",
              "      <th>Half-time Home Goals</th>\n",
              "      <th>Half-time Away Goals</th>\n",
              "      <th>Referee</th>\n",
              "      <th>Assistant 1</th>\n",
              "      <th>Assistant 2</th>\n",
              "      <th>RoundID</th>\n",
              "      <th>MatchID</th>\n",
              "      <th>Home Team Initials</th>\n",
              "      <th>Away Team Initials</th>\n",
              "    </tr>\n",
              "  </thead>\n",
              "  <tbody>\n",
              "    <tr>\n",
              "      <th>0</th>\n",
              "      <td>1930.0</td>\n",
              "      <td>13 Jul 1930 - 15:00</td>\n",
              "      <td>Group 1</td>\n",
              "      <td>Pocitos</td>\n",
              "      <td>Montevideo</td>\n",
              "      <td>France</td>\n",
              "      <td>4.0</td>\n",
              "      <td>1.0</td>\n",
              "      <td>Mexico</td>\n",
              "      <td></td>\n",
              "      <td>4444.0</td>\n",
              "      <td>3.0</td>\n",
              "      <td>0.0</td>\n",
              "      <td>LOMBARDI Domingo (URU)</td>\n",
              "      <td>CRISTOPHE Henry (BEL)</td>\n",
              "      <td>REGO Gilberto (BRA)</td>\n",
              "      <td>201.0</td>\n",
              "      <td>1096.0</td>\n",
              "      <td>FRA</td>\n",
              "      <td>MEX</td>\n",
              "    </tr>\n",
              "    <tr>\n",
              "      <th>1</th>\n",
              "      <td>1930.0</td>\n",
              "      <td>13 Jul 1930 - 15:00</td>\n",
              "      <td>Group 4</td>\n",
              "      <td>Parque Central</td>\n",
              "      <td>Montevideo</td>\n",
              "      <td>USA</td>\n",
              "      <td>3.0</td>\n",
              "      <td>0.0</td>\n",
              "      <td>Belgium</td>\n",
              "      <td></td>\n",
              "      <td>18346.0</td>\n",
              "      <td>2.0</td>\n",
              "      <td>0.0</td>\n",
              "      <td>MACIAS Jose (ARG)</td>\n",
              "      <td>MATEUCCI Francisco (URU)</td>\n",
              "      <td>WARNKEN Alberto (CHI)</td>\n",
              "      <td>201.0</td>\n",
              "      <td>1090.0</td>\n",
              "      <td>USA</td>\n",
              "      <td>BEL</td>\n",
              "    </tr>\n",
              "    <tr>\n",
              "      <th>2</th>\n",
              "      <td>1930.0</td>\n",
              "      <td>14 Jul 1930 - 12:45</td>\n",
              "      <td>Group 2</td>\n",
              "      <td>Parque Central</td>\n",
              "      <td>Montevideo</td>\n",
              "      <td>Yugoslavia</td>\n",
              "      <td>2.0</td>\n",
              "      <td>1.0</td>\n",
              "      <td>Brazil</td>\n",
              "      <td></td>\n",
              "      <td>24059.0</td>\n",
              "      <td>2.0</td>\n",
              "      <td>0.0</td>\n",
              "      <td>TEJADA Anibal (URU)</td>\n",
              "      <td>VALLARINO Ricardo (URU)</td>\n",
              "      <td>BALWAY Thomas (FRA)</td>\n",
              "      <td>201.0</td>\n",
              "      <td>1093.0</td>\n",
              "      <td>YUG</td>\n",
              "      <td>BRA</td>\n",
              "    </tr>\n",
              "    <tr>\n",
              "      <th>3</th>\n",
              "      <td>1930.0</td>\n",
              "      <td>14 Jul 1930 - 14:50</td>\n",
              "      <td>Group 3</td>\n",
              "      <td>Pocitos</td>\n",
              "      <td>Montevideo</td>\n",
              "      <td>Romania</td>\n",
              "      <td>3.0</td>\n",
              "      <td>1.0</td>\n",
              "      <td>Peru</td>\n",
              "      <td></td>\n",
              "      <td>2549.0</td>\n",
              "      <td>1.0</td>\n",
              "      <td>0.0</td>\n",
              "      <td>WARNKEN Alberto (CHI)</td>\n",
              "      <td>LANGENUS Jean (BEL)</td>\n",
              "      <td>MATEUCCI Francisco (URU)</td>\n",
              "      <td>201.0</td>\n",
              "      <td>1098.0</td>\n",
              "      <td>ROU</td>\n",
              "      <td>PER</td>\n",
              "    </tr>\n",
              "    <tr>\n",
              "      <th>4</th>\n",
              "      <td>1930.0</td>\n",
              "      <td>15 Jul 1930 - 16:00</td>\n",
              "      <td>Group 1</td>\n",
              "      <td>Parque Central</td>\n",
              "      <td>Montevideo</td>\n",
              "      <td>Argentina</td>\n",
              "      <td>1.0</td>\n",
              "      <td>0.0</td>\n",
              "      <td>France</td>\n",
              "      <td></td>\n",
              "      <td>23409.0</td>\n",
              "      <td>0.0</td>\n",
              "      <td>0.0</td>\n",
              "      <td>REGO Gilberto (BRA)</td>\n",
              "      <td>SAUCEDO Ulises (BOL)</td>\n",
              "      <td>RADULESCU Constantin (ROU)</td>\n",
              "      <td>201.0</td>\n",
              "      <td>1085.0</td>\n",
              "      <td>ARG</td>\n",
              "      <td>FRA</td>\n",
              "    </tr>\n",
              "  </tbody>\n",
              "</table>\n",
              "</div>\n",
              "      <button class=\"colab-df-convert\" onclick=\"convertToInteractive('df-19842a78-9be9-4e6e-b408-efa8e34f85b5')\"\n",
              "              title=\"Convert this dataframe to an interactive table.\"\n",
              "              style=\"display:none;\">\n",
              "        \n",
              "  <svg xmlns=\"http://www.w3.org/2000/svg\" height=\"24px\"viewBox=\"0 0 24 24\"\n",
              "       width=\"24px\">\n",
              "    <path d=\"M0 0h24v24H0V0z\" fill=\"none\"/>\n",
              "    <path d=\"M18.56 5.44l.94 2.06.94-2.06 2.06-.94-2.06-.94-.94-2.06-.94 2.06-2.06.94zm-11 1L8.5 8.5l.94-2.06 2.06-.94-2.06-.94L8.5 2.5l-.94 2.06-2.06.94zm10 10l.94 2.06.94-2.06 2.06-.94-2.06-.94-.94-2.06-.94 2.06-2.06.94z\"/><path d=\"M17.41 7.96l-1.37-1.37c-.4-.4-.92-.59-1.43-.59-.52 0-1.04.2-1.43.59L10.3 9.45l-7.72 7.72c-.78.78-.78 2.05 0 2.83L4 21.41c.39.39.9.59 1.41.59.51 0 1.02-.2 1.41-.59l7.78-7.78 2.81-2.81c.8-.78.8-2.07 0-2.86zM5.41 20L4 18.59l7.72-7.72 1.47 1.35L5.41 20z\"/>\n",
              "  </svg>\n",
              "      </button>\n",
              "      \n",
              "  <style>\n",
              "    .colab-df-container {\n",
              "      display:flex;\n",
              "      flex-wrap:wrap;\n",
              "      gap: 12px;\n",
              "    }\n",
              "\n",
              "    .colab-df-convert {\n",
              "      background-color: #E8F0FE;\n",
              "      border: none;\n",
              "      border-radius: 50%;\n",
              "      cursor: pointer;\n",
              "      display: none;\n",
              "      fill: #1967D2;\n",
              "      height: 32px;\n",
              "      padding: 0 0 0 0;\n",
              "      width: 32px;\n",
              "    }\n",
              "\n",
              "    .colab-df-convert:hover {\n",
              "      background-color: #E2EBFA;\n",
              "      box-shadow: 0px 1px 2px rgba(60, 64, 67, 0.3), 0px 1px 3px 1px rgba(60, 64, 67, 0.15);\n",
              "      fill: #174EA6;\n",
              "    }\n",
              "\n",
              "    [theme=dark] .colab-df-convert {\n",
              "      background-color: #3B4455;\n",
              "      fill: #D2E3FC;\n",
              "    }\n",
              "\n",
              "    [theme=dark] .colab-df-convert:hover {\n",
              "      background-color: #434B5C;\n",
              "      box-shadow: 0px 1px 3px 1px rgba(0, 0, 0, 0.15);\n",
              "      filter: drop-shadow(0px 1px 2px rgba(0, 0, 0, 0.3));\n",
              "      fill: #FFFFFF;\n",
              "    }\n",
              "  </style>\n",
              "\n",
              "      <script>\n",
              "        const buttonEl =\n",
              "          document.querySelector('#df-19842a78-9be9-4e6e-b408-efa8e34f85b5 button.colab-df-convert');\n",
              "        buttonEl.style.display =\n",
              "          google.colab.kernel.accessAllowed ? 'block' : 'none';\n",
              "\n",
              "        async function convertToInteractive(key) {\n",
              "          const element = document.querySelector('#df-19842a78-9be9-4e6e-b408-efa8e34f85b5');\n",
              "          const dataTable =\n",
              "            await google.colab.kernel.invokeFunction('convertToInteractive',\n",
              "                                                     [key], {});\n",
              "          if (!dataTable) return;\n",
              "\n",
              "          const docLinkHtml = 'Like what you see? Visit the ' +\n",
              "            '<a target=\"_blank\" href=https://colab.research.google.com/notebooks/data_table.ipynb>data table notebook</a>'\n",
              "            + ' to learn more about interactive tables.';\n",
              "          element.innerHTML = '';\n",
              "          dataTable['output_type'] = 'display_data';\n",
              "          await google.colab.output.renderOutput(dataTable, element);\n",
              "          const docLink = document.createElement('div');\n",
              "          docLink.innerHTML = docLinkHtml;\n",
              "          element.appendChild(docLink);\n",
              "        }\n",
              "      </script>\n",
              "    </div>\n",
              "  </div>\n",
              "  "
            ]
          },
          "metadata": {},
          "execution_count": 67
        }
      ]
    },
    {
      "cell_type": "markdown",
      "source": [
        "Data cleaning"
      ],
      "metadata": {
        "id": "7TTNqacmH0h2"
      }
    },
    {
      "cell_type": "code",
      "source": [
        "world_cup_df.dropna(subset=['Year'], inplace = True)\n",
        "world_cup_df.head()"
      ],
      "metadata": {
        "id": "lpkv21tJKfGO"
      },
      "execution_count": null,
      "outputs": []
    },
    {
      "cell_type": "code",
      "source": [
        "world_cup_matches_df['Datetime']=pd.to_datetime(world_cup_matches_df['Datetime'])\n",
        "world_cup_matches_df.dropna(subset=['Datetime','Year'], inplace = True)\n",
        "world_cup_matches_df.head()"
      ],
      "metadata": {
        "id": "pEnt-HuIG8-F",
        "colab": {
          "base_uri": "https://localhost:8080/",
          "height": 496
        },
        "outputId": "1875dcb6-41d0-44d2-f781-7a447ccac2de"
      },
      "execution_count": 68,
      "outputs": [
        {
          "output_type": "execute_result",
          "data": {
            "text/plain": [
              "     Year            Datetime    Stage         Stadium         City  \\\n",
              "0  1930.0 1930-07-13 15:00:00  Group 1         Pocitos  Montevideo    \n",
              "1  1930.0 1930-07-13 15:00:00  Group 4  Parque Central  Montevideo    \n",
              "2  1930.0 1930-07-14 12:45:00  Group 2  Parque Central  Montevideo    \n",
              "3  1930.0 1930-07-14 14:50:00  Group 3         Pocitos  Montevideo    \n",
              "4  1930.0 1930-07-15 16:00:00  Group 1  Parque Central  Montevideo    \n",
              "\n",
              "  Home Team Name  Home Team Goals  Away Team Goals Away Team Name  \\\n",
              "0         France              4.0              1.0         Mexico   \n",
              "1            USA              3.0              0.0        Belgium   \n",
              "2     Yugoslavia              2.0              1.0         Brazil   \n",
              "3        Romania              3.0              1.0           Peru   \n",
              "4      Argentina              1.0              0.0         France   \n",
              "\n",
              "  Win conditions  Attendance  Half-time Home Goals  Half-time Away Goals  \\\n",
              "0                     4444.0                   3.0                   0.0   \n",
              "1                    18346.0                   2.0                   0.0   \n",
              "2                    24059.0                   2.0                   0.0   \n",
              "3                     2549.0                   1.0                   0.0   \n",
              "4                    23409.0                   0.0                   0.0   \n",
              "\n",
              "                  Referee               Assistant 1  \\\n",
              "0  LOMBARDI Domingo (URU)     CRISTOPHE Henry (BEL)   \n",
              "1       MACIAS Jose (ARG)  MATEUCCI Francisco (URU)   \n",
              "2     TEJADA Anibal (URU)   VALLARINO Ricardo (URU)   \n",
              "3   WARNKEN Alberto (CHI)       LANGENUS Jean (BEL)   \n",
              "4     REGO Gilberto (BRA)      SAUCEDO Ulises (BOL)   \n",
              "\n",
              "                  Assistant 2  RoundID  MatchID Home Team Initials  \\\n",
              "0         REGO Gilberto (BRA)    201.0   1096.0                FRA   \n",
              "1       WARNKEN Alberto (CHI)    201.0   1090.0                USA   \n",
              "2         BALWAY Thomas (FRA)    201.0   1093.0                YUG   \n",
              "3    MATEUCCI Francisco (URU)    201.0   1098.0                ROU   \n",
              "4  RADULESCU Constantin (ROU)    201.0   1085.0                ARG   \n",
              "\n",
              "  Away Team Initials  \n",
              "0                MEX  \n",
              "1                BEL  \n",
              "2                BRA  \n",
              "3                PER  \n",
              "4                FRA  "
            ],
            "text/html": [
              "\n",
              "  <div id=\"df-f7aebd66-4bff-498b-85ac-b68124631455\">\n",
              "    <div class=\"colab-df-container\">\n",
              "      <div>\n",
              "<style scoped>\n",
              "    .dataframe tbody tr th:only-of-type {\n",
              "        vertical-align: middle;\n",
              "    }\n",
              "\n",
              "    .dataframe tbody tr th {\n",
              "        vertical-align: top;\n",
              "    }\n",
              "\n",
              "    .dataframe thead th {\n",
              "        text-align: right;\n",
              "    }\n",
              "</style>\n",
              "<table border=\"1\" class=\"dataframe\">\n",
              "  <thead>\n",
              "    <tr style=\"text-align: right;\">\n",
              "      <th></th>\n",
              "      <th>Year</th>\n",
              "      <th>Datetime</th>\n",
              "      <th>Stage</th>\n",
              "      <th>Stadium</th>\n",
              "      <th>City</th>\n",
              "      <th>Home Team Name</th>\n",
              "      <th>Home Team Goals</th>\n",
              "      <th>Away Team Goals</th>\n",
              "      <th>Away Team Name</th>\n",
              "      <th>Win conditions</th>\n",
              "      <th>Attendance</th>\n",
              "      <th>Half-time Home Goals</th>\n",
              "      <th>Half-time Away Goals</th>\n",
              "      <th>Referee</th>\n",
              "      <th>Assistant 1</th>\n",
              "      <th>Assistant 2</th>\n",
              "      <th>RoundID</th>\n",
              "      <th>MatchID</th>\n",
              "      <th>Home Team Initials</th>\n",
              "      <th>Away Team Initials</th>\n",
              "    </tr>\n",
              "  </thead>\n",
              "  <tbody>\n",
              "    <tr>\n",
              "      <th>0</th>\n",
              "      <td>1930.0</td>\n",
              "      <td>1930-07-13 15:00:00</td>\n",
              "      <td>Group 1</td>\n",
              "      <td>Pocitos</td>\n",
              "      <td>Montevideo</td>\n",
              "      <td>France</td>\n",
              "      <td>4.0</td>\n",
              "      <td>1.0</td>\n",
              "      <td>Mexico</td>\n",
              "      <td></td>\n",
              "      <td>4444.0</td>\n",
              "      <td>3.0</td>\n",
              "      <td>0.0</td>\n",
              "      <td>LOMBARDI Domingo (URU)</td>\n",
              "      <td>CRISTOPHE Henry (BEL)</td>\n",
              "      <td>REGO Gilberto (BRA)</td>\n",
              "      <td>201.0</td>\n",
              "      <td>1096.0</td>\n",
              "      <td>FRA</td>\n",
              "      <td>MEX</td>\n",
              "    </tr>\n",
              "    <tr>\n",
              "      <th>1</th>\n",
              "      <td>1930.0</td>\n",
              "      <td>1930-07-13 15:00:00</td>\n",
              "      <td>Group 4</td>\n",
              "      <td>Parque Central</td>\n",
              "      <td>Montevideo</td>\n",
              "      <td>USA</td>\n",
              "      <td>3.0</td>\n",
              "      <td>0.0</td>\n",
              "      <td>Belgium</td>\n",
              "      <td></td>\n",
              "      <td>18346.0</td>\n",
              "      <td>2.0</td>\n",
              "      <td>0.0</td>\n",
              "      <td>MACIAS Jose (ARG)</td>\n",
              "      <td>MATEUCCI Francisco (URU)</td>\n",
              "      <td>WARNKEN Alberto (CHI)</td>\n",
              "      <td>201.0</td>\n",
              "      <td>1090.0</td>\n",
              "      <td>USA</td>\n",
              "      <td>BEL</td>\n",
              "    </tr>\n",
              "    <tr>\n",
              "      <th>2</th>\n",
              "      <td>1930.0</td>\n",
              "      <td>1930-07-14 12:45:00</td>\n",
              "      <td>Group 2</td>\n",
              "      <td>Parque Central</td>\n",
              "      <td>Montevideo</td>\n",
              "      <td>Yugoslavia</td>\n",
              "      <td>2.0</td>\n",
              "      <td>1.0</td>\n",
              "      <td>Brazil</td>\n",
              "      <td></td>\n",
              "      <td>24059.0</td>\n",
              "      <td>2.0</td>\n",
              "      <td>0.0</td>\n",
              "      <td>TEJADA Anibal (URU)</td>\n",
              "      <td>VALLARINO Ricardo (URU)</td>\n",
              "      <td>BALWAY Thomas (FRA)</td>\n",
              "      <td>201.0</td>\n",
              "      <td>1093.0</td>\n",
              "      <td>YUG</td>\n",
              "      <td>BRA</td>\n",
              "    </tr>\n",
              "    <tr>\n",
              "      <th>3</th>\n",
              "      <td>1930.0</td>\n",
              "      <td>1930-07-14 14:50:00</td>\n",
              "      <td>Group 3</td>\n",
              "      <td>Pocitos</td>\n",
              "      <td>Montevideo</td>\n",
              "      <td>Romania</td>\n",
              "      <td>3.0</td>\n",
              "      <td>1.0</td>\n",
              "      <td>Peru</td>\n",
              "      <td></td>\n",
              "      <td>2549.0</td>\n",
              "      <td>1.0</td>\n",
              "      <td>0.0</td>\n",
              "      <td>WARNKEN Alberto (CHI)</td>\n",
              "      <td>LANGENUS Jean (BEL)</td>\n",
              "      <td>MATEUCCI Francisco (URU)</td>\n",
              "      <td>201.0</td>\n",
              "      <td>1098.0</td>\n",
              "      <td>ROU</td>\n",
              "      <td>PER</td>\n",
              "    </tr>\n",
              "    <tr>\n",
              "      <th>4</th>\n",
              "      <td>1930.0</td>\n",
              "      <td>1930-07-15 16:00:00</td>\n",
              "      <td>Group 1</td>\n",
              "      <td>Parque Central</td>\n",
              "      <td>Montevideo</td>\n",
              "      <td>Argentina</td>\n",
              "      <td>1.0</td>\n",
              "      <td>0.0</td>\n",
              "      <td>France</td>\n",
              "      <td></td>\n",
              "      <td>23409.0</td>\n",
              "      <td>0.0</td>\n",
              "      <td>0.0</td>\n",
              "      <td>REGO Gilberto (BRA)</td>\n",
              "      <td>SAUCEDO Ulises (BOL)</td>\n",
              "      <td>RADULESCU Constantin (ROU)</td>\n",
              "      <td>201.0</td>\n",
              "      <td>1085.0</td>\n",
              "      <td>ARG</td>\n",
              "      <td>FRA</td>\n",
              "    </tr>\n",
              "  </tbody>\n",
              "</table>\n",
              "</div>\n",
              "      <button class=\"colab-df-convert\" onclick=\"convertToInteractive('df-f7aebd66-4bff-498b-85ac-b68124631455')\"\n",
              "              title=\"Convert this dataframe to an interactive table.\"\n",
              "              style=\"display:none;\">\n",
              "        \n",
              "  <svg xmlns=\"http://www.w3.org/2000/svg\" height=\"24px\"viewBox=\"0 0 24 24\"\n",
              "       width=\"24px\">\n",
              "    <path d=\"M0 0h24v24H0V0z\" fill=\"none\"/>\n",
              "    <path d=\"M18.56 5.44l.94 2.06.94-2.06 2.06-.94-2.06-.94-.94-2.06-.94 2.06-2.06.94zm-11 1L8.5 8.5l.94-2.06 2.06-.94-2.06-.94L8.5 2.5l-.94 2.06-2.06.94zm10 10l.94 2.06.94-2.06 2.06-.94-2.06-.94-.94-2.06-.94 2.06-2.06.94z\"/><path d=\"M17.41 7.96l-1.37-1.37c-.4-.4-.92-.59-1.43-.59-.52 0-1.04.2-1.43.59L10.3 9.45l-7.72 7.72c-.78.78-.78 2.05 0 2.83L4 21.41c.39.39.9.59 1.41.59.51 0 1.02-.2 1.41-.59l7.78-7.78 2.81-2.81c.8-.78.8-2.07 0-2.86zM5.41 20L4 18.59l7.72-7.72 1.47 1.35L5.41 20z\"/>\n",
              "  </svg>\n",
              "      </button>\n",
              "      \n",
              "  <style>\n",
              "    .colab-df-container {\n",
              "      display:flex;\n",
              "      flex-wrap:wrap;\n",
              "      gap: 12px;\n",
              "    }\n",
              "\n",
              "    .colab-df-convert {\n",
              "      background-color: #E8F0FE;\n",
              "      border: none;\n",
              "      border-radius: 50%;\n",
              "      cursor: pointer;\n",
              "      display: none;\n",
              "      fill: #1967D2;\n",
              "      height: 32px;\n",
              "      padding: 0 0 0 0;\n",
              "      width: 32px;\n",
              "    }\n",
              "\n",
              "    .colab-df-convert:hover {\n",
              "      background-color: #E2EBFA;\n",
              "      box-shadow: 0px 1px 2px rgba(60, 64, 67, 0.3), 0px 1px 3px 1px rgba(60, 64, 67, 0.15);\n",
              "      fill: #174EA6;\n",
              "    }\n",
              "\n",
              "    [theme=dark] .colab-df-convert {\n",
              "      background-color: #3B4455;\n",
              "      fill: #D2E3FC;\n",
              "    }\n",
              "\n",
              "    [theme=dark] .colab-df-convert:hover {\n",
              "      background-color: #434B5C;\n",
              "      box-shadow: 0px 1px 3px 1px rgba(0, 0, 0, 0.15);\n",
              "      filter: drop-shadow(0px 1px 2px rgba(0, 0, 0, 0.3));\n",
              "      fill: #FFFFFF;\n",
              "    }\n",
              "  </style>\n",
              "\n",
              "      <script>\n",
              "        const buttonEl =\n",
              "          document.querySelector('#df-f7aebd66-4bff-498b-85ac-b68124631455 button.colab-df-convert');\n",
              "        buttonEl.style.display =\n",
              "          google.colab.kernel.accessAllowed ? 'block' : 'none';\n",
              "\n",
              "        async function convertToInteractive(key) {\n",
              "          const element = document.querySelector('#df-f7aebd66-4bff-498b-85ac-b68124631455');\n",
              "          const dataTable =\n",
              "            await google.colab.kernel.invokeFunction('convertToInteractive',\n",
              "                                                     [key], {});\n",
              "          if (!dataTable) return;\n",
              "\n",
              "          const docLinkHtml = 'Like what you see? Visit the ' +\n",
              "            '<a target=\"_blank\" href=https://colab.research.google.com/notebooks/data_table.ipynb>data table notebook</a>'\n",
              "            + ' to learn more about interactive tables.';\n",
              "          element.innerHTML = '';\n",
              "          dataTable['output_type'] = 'display_data';\n",
              "          await google.colab.output.renderOutput(dataTable, element);\n",
              "          const docLink = document.createElement('div');\n",
              "          docLink.innerHTML = docLinkHtml;\n",
              "          element.appendChild(docLink);\n",
              "        }\n",
              "      </script>\n",
              "    </div>\n",
              "  </div>\n",
              "  "
            ]
          },
          "metadata": {},
          "execution_count": 68
        }
      ]
    },
    {
      "cell_type": "code",
      "source": [
        "df=world_cup_df.replace(to_replace=[\"Germany FR\",\"Estadio do Maracana\"],\n",
        "           value=[\"Germany\",\"Maracan Stadium\"])\n",
        "df"
      ],
      "metadata": {
        "id": "blV1aAieEav5",
        "colab": {
          "base_uri": "https://localhost:8080/",
          "height": 738
        },
        "outputId": "c1302f94-caea-4935-bbe5-29fdc9589c77"
      },
      "execution_count": 86,
      "outputs": [
        {
          "output_type": "execute_result",
          "data": {
            "text/plain": [
              "    Year       Country     Winner      Runners-Up        Third  \\\n",
              "0   1930       Uruguay    Uruguay       Argentina          USA   \n",
              "1   1934         Italy      Italy  Czechoslovakia      Germany   \n",
              "2   1938        France      Italy         Hungary       Brazil   \n",
              "3   1950        Brazil    Uruguay          Brazil       Sweden   \n",
              "4   1954   Switzerland    Germany         Hungary      Austria   \n",
              "5   1958        Sweden     Brazil          Sweden       France   \n",
              "6   1962         Chile     Brazil  Czechoslovakia        Chile   \n",
              "7   1966       England    England         Germany     Portugal   \n",
              "8   1970        Mexico     Brazil           Italy      Germany   \n",
              "9   1974       Germany    Germany     Netherlands       Poland   \n",
              "10  1978     Argentina  Argentina     Netherlands       Brazil   \n",
              "11  1982         Spain      Italy         Germany       Poland   \n",
              "12  1986        Mexico  Argentina         Germany       France   \n",
              "13  1990         Italy    Germany       Argentina        Italy   \n",
              "14  1994           USA     Brazil           Italy       Sweden   \n",
              "15  1998        France     France          Brazil      Croatia   \n",
              "16  2002   Korea/Japan     Brazil         Germany       Turkey   \n",
              "17  2006       Germany      Italy          France      Germany   \n",
              "18  2010  South Africa      Spain     Netherlands      Germany   \n",
              "19  2014        Brazil    Germany       Argentina  Netherlands   \n",
              "\n",
              "            Fourth  GoalsScored  QualifiedTeams  MatchesPlayed Attendance  \n",
              "0       Yugoslavia           70              13             18    590.549  \n",
              "1          Austria           70              16             17    363.000  \n",
              "2           Sweden           84              15             18    375.700  \n",
              "3            Spain           88              13             22  1.045.246  \n",
              "4          Uruguay          140              16             26    768.607  \n",
              "5          Germany          126              16             35    819.810  \n",
              "6       Yugoslavia           89              16             32    893.172  \n",
              "7     Soviet Union           89              16             32  1.563.135  \n",
              "8          Uruguay           95              16             32  1.603.975  \n",
              "9           Brazil           97              16             38  1.865.753  \n",
              "10           Italy          102              16             38  1.545.791  \n",
              "11          France          146              24             52  2.109.723  \n",
              "12         Belgium          132              24             52  2.394.031  \n",
              "13         England          115              24             52  2.516.215  \n",
              "14        Bulgaria          141              24             52  3.587.538  \n",
              "15     Netherlands          171              32             64  2.785.100  \n",
              "16  Korea Republic          161              32             64  2.705.197  \n",
              "17        Portugal          147              32             64  3.359.439  \n",
              "18         Uruguay          145              32             64  3.178.856  \n",
              "19          Brazil          171              32             64  3.386.810  "
            ],
            "text/html": [
              "\n",
              "  <div id=\"df-d49680b5-1979-4015-897c-0361cd87adba\">\n",
              "    <div class=\"colab-df-container\">\n",
              "      <div>\n",
              "<style scoped>\n",
              "    .dataframe tbody tr th:only-of-type {\n",
              "        vertical-align: middle;\n",
              "    }\n",
              "\n",
              "    .dataframe tbody tr th {\n",
              "        vertical-align: top;\n",
              "    }\n",
              "\n",
              "    .dataframe thead th {\n",
              "        text-align: right;\n",
              "    }\n",
              "</style>\n",
              "<table border=\"1\" class=\"dataframe\">\n",
              "  <thead>\n",
              "    <tr style=\"text-align: right;\">\n",
              "      <th></th>\n",
              "      <th>Year</th>\n",
              "      <th>Country</th>\n",
              "      <th>Winner</th>\n",
              "      <th>Runners-Up</th>\n",
              "      <th>Third</th>\n",
              "      <th>Fourth</th>\n",
              "      <th>GoalsScored</th>\n",
              "      <th>QualifiedTeams</th>\n",
              "      <th>MatchesPlayed</th>\n",
              "      <th>Attendance</th>\n",
              "    </tr>\n",
              "  </thead>\n",
              "  <tbody>\n",
              "    <tr>\n",
              "      <th>0</th>\n",
              "      <td>1930</td>\n",
              "      <td>Uruguay</td>\n",
              "      <td>Uruguay</td>\n",
              "      <td>Argentina</td>\n",
              "      <td>USA</td>\n",
              "      <td>Yugoslavia</td>\n",
              "      <td>70</td>\n",
              "      <td>13</td>\n",
              "      <td>18</td>\n",
              "      <td>590.549</td>\n",
              "    </tr>\n",
              "    <tr>\n",
              "      <th>1</th>\n",
              "      <td>1934</td>\n",
              "      <td>Italy</td>\n",
              "      <td>Italy</td>\n",
              "      <td>Czechoslovakia</td>\n",
              "      <td>Germany</td>\n",
              "      <td>Austria</td>\n",
              "      <td>70</td>\n",
              "      <td>16</td>\n",
              "      <td>17</td>\n",
              "      <td>363.000</td>\n",
              "    </tr>\n",
              "    <tr>\n",
              "      <th>2</th>\n",
              "      <td>1938</td>\n",
              "      <td>France</td>\n",
              "      <td>Italy</td>\n",
              "      <td>Hungary</td>\n",
              "      <td>Brazil</td>\n",
              "      <td>Sweden</td>\n",
              "      <td>84</td>\n",
              "      <td>15</td>\n",
              "      <td>18</td>\n",
              "      <td>375.700</td>\n",
              "    </tr>\n",
              "    <tr>\n",
              "      <th>3</th>\n",
              "      <td>1950</td>\n",
              "      <td>Brazil</td>\n",
              "      <td>Uruguay</td>\n",
              "      <td>Brazil</td>\n",
              "      <td>Sweden</td>\n",
              "      <td>Spain</td>\n",
              "      <td>88</td>\n",
              "      <td>13</td>\n",
              "      <td>22</td>\n",
              "      <td>1.045.246</td>\n",
              "    </tr>\n",
              "    <tr>\n",
              "      <th>4</th>\n",
              "      <td>1954</td>\n",
              "      <td>Switzerland</td>\n",
              "      <td>Germany</td>\n",
              "      <td>Hungary</td>\n",
              "      <td>Austria</td>\n",
              "      <td>Uruguay</td>\n",
              "      <td>140</td>\n",
              "      <td>16</td>\n",
              "      <td>26</td>\n",
              "      <td>768.607</td>\n",
              "    </tr>\n",
              "    <tr>\n",
              "      <th>5</th>\n",
              "      <td>1958</td>\n",
              "      <td>Sweden</td>\n",
              "      <td>Brazil</td>\n",
              "      <td>Sweden</td>\n",
              "      <td>France</td>\n",
              "      <td>Germany</td>\n",
              "      <td>126</td>\n",
              "      <td>16</td>\n",
              "      <td>35</td>\n",
              "      <td>819.810</td>\n",
              "    </tr>\n",
              "    <tr>\n",
              "      <th>6</th>\n",
              "      <td>1962</td>\n",
              "      <td>Chile</td>\n",
              "      <td>Brazil</td>\n",
              "      <td>Czechoslovakia</td>\n",
              "      <td>Chile</td>\n",
              "      <td>Yugoslavia</td>\n",
              "      <td>89</td>\n",
              "      <td>16</td>\n",
              "      <td>32</td>\n",
              "      <td>893.172</td>\n",
              "    </tr>\n",
              "    <tr>\n",
              "      <th>7</th>\n",
              "      <td>1966</td>\n",
              "      <td>England</td>\n",
              "      <td>England</td>\n",
              "      <td>Germany</td>\n",
              "      <td>Portugal</td>\n",
              "      <td>Soviet Union</td>\n",
              "      <td>89</td>\n",
              "      <td>16</td>\n",
              "      <td>32</td>\n",
              "      <td>1.563.135</td>\n",
              "    </tr>\n",
              "    <tr>\n",
              "      <th>8</th>\n",
              "      <td>1970</td>\n",
              "      <td>Mexico</td>\n",
              "      <td>Brazil</td>\n",
              "      <td>Italy</td>\n",
              "      <td>Germany</td>\n",
              "      <td>Uruguay</td>\n",
              "      <td>95</td>\n",
              "      <td>16</td>\n",
              "      <td>32</td>\n",
              "      <td>1.603.975</td>\n",
              "    </tr>\n",
              "    <tr>\n",
              "      <th>9</th>\n",
              "      <td>1974</td>\n",
              "      <td>Germany</td>\n",
              "      <td>Germany</td>\n",
              "      <td>Netherlands</td>\n",
              "      <td>Poland</td>\n",
              "      <td>Brazil</td>\n",
              "      <td>97</td>\n",
              "      <td>16</td>\n",
              "      <td>38</td>\n",
              "      <td>1.865.753</td>\n",
              "    </tr>\n",
              "    <tr>\n",
              "      <th>10</th>\n",
              "      <td>1978</td>\n",
              "      <td>Argentina</td>\n",
              "      <td>Argentina</td>\n",
              "      <td>Netherlands</td>\n",
              "      <td>Brazil</td>\n",
              "      <td>Italy</td>\n",
              "      <td>102</td>\n",
              "      <td>16</td>\n",
              "      <td>38</td>\n",
              "      <td>1.545.791</td>\n",
              "    </tr>\n",
              "    <tr>\n",
              "      <th>11</th>\n",
              "      <td>1982</td>\n",
              "      <td>Spain</td>\n",
              "      <td>Italy</td>\n",
              "      <td>Germany</td>\n",
              "      <td>Poland</td>\n",
              "      <td>France</td>\n",
              "      <td>146</td>\n",
              "      <td>24</td>\n",
              "      <td>52</td>\n",
              "      <td>2.109.723</td>\n",
              "    </tr>\n",
              "    <tr>\n",
              "      <th>12</th>\n",
              "      <td>1986</td>\n",
              "      <td>Mexico</td>\n",
              "      <td>Argentina</td>\n",
              "      <td>Germany</td>\n",
              "      <td>France</td>\n",
              "      <td>Belgium</td>\n",
              "      <td>132</td>\n",
              "      <td>24</td>\n",
              "      <td>52</td>\n",
              "      <td>2.394.031</td>\n",
              "    </tr>\n",
              "    <tr>\n",
              "      <th>13</th>\n",
              "      <td>1990</td>\n",
              "      <td>Italy</td>\n",
              "      <td>Germany</td>\n",
              "      <td>Argentina</td>\n",
              "      <td>Italy</td>\n",
              "      <td>England</td>\n",
              "      <td>115</td>\n",
              "      <td>24</td>\n",
              "      <td>52</td>\n",
              "      <td>2.516.215</td>\n",
              "    </tr>\n",
              "    <tr>\n",
              "      <th>14</th>\n",
              "      <td>1994</td>\n",
              "      <td>USA</td>\n",
              "      <td>Brazil</td>\n",
              "      <td>Italy</td>\n",
              "      <td>Sweden</td>\n",
              "      <td>Bulgaria</td>\n",
              "      <td>141</td>\n",
              "      <td>24</td>\n",
              "      <td>52</td>\n",
              "      <td>3.587.538</td>\n",
              "    </tr>\n",
              "    <tr>\n",
              "      <th>15</th>\n",
              "      <td>1998</td>\n",
              "      <td>France</td>\n",
              "      <td>France</td>\n",
              "      <td>Brazil</td>\n",
              "      <td>Croatia</td>\n",
              "      <td>Netherlands</td>\n",
              "      <td>171</td>\n",
              "      <td>32</td>\n",
              "      <td>64</td>\n",
              "      <td>2.785.100</td>\n",
              "    </tr>\n",
              "    <tr>\n",
              "      <th>16</th>\n",
              "      <td>2002</td>\n",
              "      <td>Korea/Japan</td>\n",
              "      <td>Brazil</td>\n",
              "      <td>Germany</td>\n",
              "      <td>Turkey</td>\n",
              "      <td>Korea Republic</td>\n",
              "      <td>161</td>\n",
              "      <td>32</td>\n",
              "      <td>64</td>\n",
              "      <td>2.705.197</td>\n",
              "    </tr>\n",
              "    <tr>\n",
              "      <th>17</th>\n",
              "      <td>2006</td>\n",
              "      <td>Germany</td>\n",
              "      <td>Italy</td>\n",
              "      <td>France</td>\n",
              "      <td>Germany</td>\n",
              "      <td>Portugal</td>\n",
              "      <td>147</td>\n",
              "      <td>32</td>\n",
              "      <td>64</td>\n",
              "      <td>3.359.439</td>\n",
              "    </tr>\n",
              "    <tr>\n",
              "      <th>18</th>\n",
              "      <td>2010</td>\n",
              "      <td>South Africa</td>\n",
              "      <td>Spain</td>\n",
              "      <td>Netherlands</td>\n",
              "      <td>Germany</td>\n",
              "      <td>Uruguay</td>\n",
              "      <td>145</td>\n",
              "      <td>32</td>\n",
              "      <td>64</td>\n",
              "      <td>3.178.856</td>\n",
              "    </tr>\n",
              "    <tr>\n",
              "      <th>19</th>\n",
              "      <td>2014</td>\n",
              "      <td>Brazil</td>\n",
              "      <td>Germany</td>\n",
              "      <td>Argentina</td>\n",
              "      <td>Netherlands</td>\n",
              "      <td>Brazil</td>\n",
              "      <td>171</td>\n",
              "      <td>32</td>\n",
              "      <td>64</td>\n",
              "      <td>3.386.810</td>\n",
              "    </tr>\n",
              "  </tbody>\n",
              "</table>\n",
              "</div>\n",
              "      <button class=\"colab-df-convert\" onclick=\"convertToInteractive('df-d49680b5-1979-4015-897c-0361cd87adba')\"\n",
              "              title=\"Convert this dataframe to an interactive table.\"\n",
              "              style=\"display:none;\">\n",
              "        \n",
              "  <svg xmlns=\"http://www.w3.org/2000/svg\" height=\"24px\"viewBox=\"0 0 24 24\"\n",
              "       width=\"24px\">\n",
              "    <path d=\"M0 0h24v24H0V0z\" fill=\"none\"/>\n",
              "    <path d=\"M18.56 5.44l.94 2.06.94-2.06 2.06-.94-2.06-.94-.94-2.06-.94 2.06-2.06.94zm-11 1L8.5 8.5l.94-2.06 2.06-.94-2.06-.94L8.5 2.5l-.94 2.06-2.06.94zm10 10l.94 2.06.94-2.06 2.06-.94-2.06-.94-.94-2.06-.94 2.06-2.06.94z\"/><path d=\"M17.41 7.96l-1.37-1.37c-.4-.4-.92-.59-1.43-.59-.52 0-1.04.2-1.43.59L10.3 9.45l-7.72 7.72c-.78.78-.78 2.05 0 2.83L4 21.41c.39.39.9.59 1.41.59.51 0 1.02-.2 1.41-.59l7.78-7.78 2.81-2.81c.8-.78.8-2.07 0-2.86zM5.41 20L4 18.59l7.72-7.72 1.47 1.35L5.41 20z\"/>\n",
              "  </svg>\n",
              "      </button>\n",
              "      \n",
              "  <style>\n",
              "    .colab-df-container {\n",
              "      display:flex;\n",
              "      flex-wrap:wrap;\n",
              "      gap: 12px;\n",
              "    }\n",
              "\n",
              "    .colab-df-convert {\n",
              "      background-color: #E8F0FE;\n",
              "      border: none;\n",
              "      border-radius: 50%;\n",
              "      cursor: pointer;\n",
              "      display: none;\n",
              "      fill: #1967D2;\n",
              "      height: 32px;\n",
              "      padding: 0 0 0 0;\n",
              "      width: 32px;\n",
              "    }\n",
              "\n",
              "    .colab-df-convert:hover {\n",
              "      background-color: #E2EBFA;\n",
              "      box-shadow: 0px 1px 2px rgba(60, 64, 67, 0.3), 0px 1px 3px 1px rgba(60, 64, 67, 0.15);\n",
              "      fill: #174EA6;\n",
              "    }\n",
              "\n",
              "    [theme=dark] .colab-df-convert {\n",
              "      background-color: #3B4455;\n",
              "      fill: #D2E3FC;\n",
              "    }\n",
              "\n",
              "    [theme=dark] .colab-df-convert:hover {\n",
              "      background-color: #434B5C;\n",
              "      box-shadow: 0px 1px 3px 1px rgba(0, 0, 0, 0.15);\n",
              "      filter: drop-shadow(0px 1px 2px rgba(0, 0, 0, 0.3));\n",
              "      fill: #FFFFFF;\n",
              "    }\n",
              "  </style>\n",
              "\n",
              "      <script>\n",
              "        const buttonEl =\n",
              "          document.querySelector('#df-d49680b5-1979-4015-897c-0361cd87adba button.colab-df-convert');\n",
              "        buttonEl.style.display =\n",
              "          google.colab.kernel.accessAllowed ? 'block' : 'none';\n",
              "\n",
              "        async function convertToInteractive(key) {\n",
              "          const element = document.querySelector('#df-d49680b5-1979-4015-897c-0361cd87adba');\n",
              "          const dataTable =\n",
              "            await google.colab.kernel.invokeFunction('convertToInteractive',\n",
              "                                                     [key], {});\n",
              "          if (!dataTable) return;\n",
              "\n",
              "          const docLinkHtml = 'Like what you see? Visit the ' +\n",
              "            '<a target=\"_blank\" href=https://colab.research.google.com/notebooks/data_table.ipynb>data table notebook</a>'\n",
              "            + ' to learn more about interactive tables.';\n",
              "          element.innerHTML = '';\n",
              "          dataTable['output_type'] = 'display_data';\n",
              "          await google.colab.output.renderOutput(dataTable, element);\n",
              "          const docLink = document.createElement('div');\n",
              "          docLink.innerHTML = docLinkHtml;\n",
              "          element.appendChild(docLink);\n",
              "        }\n",
              "      </script>\n",
              "    </div>\n",
              "  </div>\n",
              "  "
            ]
          },
          "metadata": {},
          "execution_count": 86
        }
      ]
    },
    {
      "cell_type": "markdown",
      "source": [
        "Number of played matches of each teams"
      ],
      "metadata": {
        "id": "704aP7imKzPh"
      }
    },
    {
      "cell_type": "code",
      "source": [
        "team_df=world_cup_df.groupby(['Country'])['MatchesPlayed'].sum()\n",
        "team_df.sort_values(ascending=False)\n"
      ],
      "metadata": {
        "id": "WiDRi-1QK4yx"
      },
      "execution_count": null,
      "outputs": []
    },
    {
      "cell_type": "markdown",
      "source": [
        "Winner of each country"
      ],
      "metadata": {
        "id": "1s6fuocNZtCW"
      }
    },
    {
      "cell_type": "code",
      "source": [
        "winner_df=df['Winner'].value_counts()\n",
        "winner_df"
      ],
      "metadata": {
        "id": "t9tWnquVZzZQ",
        "colab": {
          "base_uri": "https://localhost:8080/"
        },
        "outputId": "5e8bad76-8fee-4c49-b2b5-51410c73fce2"
      },
      "execution_count": 87,
      "outputs": [
        {
          "output_type": "execute_result",
          "data": {
            "text/plain": [
              "Brazil       5\n",
              "Italy        4\n",
              "Germany      4\n",
              "Uruguay      2\n",
              "Argentina    2\n",
              "England      1\n",
              "France       1\n",
              "Spain        1\n",
              "Name: Winner, dtype: int64"
            ]
          },
          "metadata": {},
          "execution_count": 87
        }
      ]
    },
    {
      "cell_type": "code",
      "source": [
        "winner_df=df.groupby(['Year'])['Winner'].sum()\n",
        "winner_df"
      ],
      "metadata": {
        "id": "BoqOVWwX_PlG"
      },
      "execution_count": null,
      "outputs": []
    },
    {
      "cell_type": "markdown",
      "source": [
        "Runner up and third postion"
      ],
      "metadata": {
        "id": "4Vi7K9uVcWVI"
      }
    },
    {
      "cell_type": "code",
      "source": [
        "runner_up_df=df['Runners-Up'].value_counts()\n",
        "runner_up_df"
      ],
      "metadata": {
        "id": "02s9MkdNca4v"
      },
      "execution_count": null,
      "outputs": []
    },
    {
      "cell_type": "code",
      "source": [
        "third_pos_df=df['Third'].value_counts()\n",
        "third_pos_df"
      ],
      "metadata": {
        "id": "2aa5hXXve357"
      },
      "execution_count": null,
      "outputs": []
    },
    {
      "cell_type": "markdown",
      "source": [
        "Merging winner, runner up and third postion df in DF"
      ],
      "metadata": {
        "id": "HnZCUt-HfJoc"
      }
    },
    {
      "cell_type": "code",
      "source": [
        "merg_df=pd.concat([winner_df,runner_up_df,third_pos_df],axis=1)\n",
        "merg_df.fillna(0, inplace=True)\n",
        "merg_df"
      ],
      "metadata": {
        "id": "8V7kefiafTf6"
      },
      "execution_count": null,
      "outputs": []
    },
    {
      "cell_type": "code",
      "source": [
        "plt.figure(figsize=(18,8))\n",
        "merg_df.plot(kind = 'bar', title='FIFA World Cup Winning Count')\n",
        "plt.ylabel('Count')\n",
        "plt.xlabel('Country')\n",
        "plt.show()"
      ],
      "metadata": {
        "colab": {
          "base_uri": "https://localhost:8080/",
          "height": 379
        },
        "id": "rsT4npzlPUBx",
        "outputId": "973b6246-55e7-4606-cdb5-597630bc301a"
      },
      "execution_count": 62,
      "outputs": [
        {
          "output_type": "display_data",
          "data": {
            "text/plain": [
              "<Figure size 1296x576 with 0 Axes>"
            ]
          },
          "metadata": {}
        },
        {
          "output_type": "display_data",
          "data": {
            "text/plain": [
              "<Figure size 432x288 with 1 Axes>"
            ],
            "image/png": "[encoded data removed]"
          },
          "metadata": {
            "needs_background": "light"
          }
        }
      ]
    },
    {
      "cell_type": "markdown",
      "source": [
        "Total goals of each country"
      ],
      "metadata": {
        "id": "px9n3A_vS5lM"
      }
    },
    {
      "cell_type": "code",
      "source": [
        "df=world_cup_matches_df.replace(to_replace=[\"Germany FR\",\"Estadio do Maracana\",\"Germany DR\"],\n",
        "           value=[\"Germany\",\"Maracan Stadium\",\"Germany\"])\n"
      ],
      "metadata": {
        "id": "Md6jdCcrdPqL"
      },
      "execution_count": 17,
      "outputs": []
    },
    {
      "cell_type": "code",
      "source": [
        "home_df=df[['Home Team Name','Home Team Goals']]"
      ],
      "metadata": {
        "id": "0pjTYmQlS_IX"
      },
      "execution_count": 18,
      "outputs": []
    },
    {
      "cell_type": "code",
      "source": [
        "away_df=df[['Away Team Name','Away Team Goals']]"
      ],
      "metadata": {
        "id": "w-mCDCs9UZt-"
      },
      "execution_count": 19,
      "outputs": []
    },
    {
      "cell_type": "code",
      "source": [
        "home_df.columns=['Countries', 'Goals']\n"
      ],
      "metadata": {
        "id": "FF-fotBWU35z"
      },
      "execution_count": 20,
      "outputs": []
    },
    {
      "cell_type": "code",
      "source": [
        "away_df.columns=home_df.columns"
      ],
      "metadata": {
        "id": "Byt1U8c5YvLl"
      },
      "execution_count": 21,
      "outputs": []
    },
    {
      "cell_type": "code",
      "source": [
        "goals_df=home_df.append(away_df,ignore_index = True)\n"
      ],
      "metadata": {
        "id": "obrDPkzRZFX-"
      },
      "execution_count": 22,
      "outputs": []
    },
    {
      "cell_type": "code",
      "source": [
        "goals = goals_df.groupby('Countries').sum()\n",
        "goals.sort_values(by='Goals',ascending=False)"
      ],
      "metadata": {
        "id": "tqpKe7NuZ7gl"
      },
      "execution_count": null,
      "outputs": []
    },
    {
      "cell_type": "code",
      "source": [
        "plt.figure(figsize=(15,8))\n",
        "goals[1:30].plot(kind = 'bar',color='#4D7F', title='Country wise goals')\n",
        "plt.ylabel('Count')\n",
        "plt.xlabel('Country')\n",
        "plt.show()"
      ],
      "metadata": {
        "colab": {
          "base_uri": "https://localhost:8080/",
          "height": 390
        },
        "id": "7c9mqKxvbQDH",
        "outputId": "1ecbb538-af06-41b3-8a99-e9ed75149571"
      },
      "execution_count": 66,
      "outputs": [
        {
          "output_type": "display_data",
          "data": {
            "text/plain": [
              "<Figure size 1080x576 with 0 Axes>"
            ]
          },
          "metadata": {}
        },
        {
          "output_type": "display_data",
          "data": {
            "text/plain": [
              "<Figure size 432x288 with 1 Axes>"
            ],
            "image/png": "[encoded data removed]"
          },
          "metadata": {
            "needs_background": "light"
          }
        }
      ]
    },
    {
      "cell_type": "markdown",
      "source": [
        "Number of Teams, Goals, and Matches per Cup"
      ],
      "metadata": {
        "id": "Ir8WxxJko7vS"
      }
    },
    {
      "cell_type": "code",
      "source": [
        "fig, ax = plt.subplots(figsize = (12,5))\n",
        "sns.despine(right = True)\n",
        "g = sns.barplot(x = 'Year', y = 'GoalsScored', data = world_cup_df[:24])\n",
        "g.set_xticklabels(g.get_xticklabels(), rotation = 80)\n",
        "g.set_title('Goals Scored by Teams Per Year')"
      ],
      "metadata": {
        "colab": {
          "base_uri": "https://localhost:8080/",
          "height": 384
        },
        "id": "OclaiqTZjmeR",
        "outputId": "14193df4-b7aa-4e59-95d4-d8043a9a8924"
      },
      "execution_count": 26,
      "outputs": [
        {
          "output_type": "execute_result",
          "data": {
            "text/plain": [
              "Text(0.5, 1.0, 'Goals Scored by Teams Per Year')"
            ]
          },
          "metadata": {},
          "execution_count": 26
        },
        {
          "output_type": "display_data",
          "data": {
            "text/plain": [
              "<Figure size 864x360 with 1 Axes>"
            ],
            "image/png": "[encoded data removed]"
          },
          "metadata": {
            "needs_background": "light"
          }
        }
      ]
    },
    {
      "cell_type": "code",
      "source": [
        "fig, ax = plt.subplots(figsize = (12,5))\n",
        "sns.despine(right = True)\n",
        "g = sns.barplot(x = 'Year', y = 'QualifiedTeams', data = world_cup_df)\n",
        "g.set_xticklabels(g.get_xticklabels(), rotation = 80)\n",
        "g.set_title('QualifiedTeams Teams Per Year')"
      ],
      "metadata": {
        "id": "I_smBPcBuFjY",
        "colab": {
          "base_uri": "https://localhost:8080/",
          "height": 384
        },
        "outputId": "f8c072d9-6b50-453e-9bdb-672860ca9886"
      },
      "execution_count": 27,
      "outputs": [
        {
          "output_type": "execute_result",
          "data": {
            "text/plain": [
              "Text(0.5, 1.0, 'QualifiedTeams Teams Per Year')"
            ]
          },
          "metadata": {},
          "execution_count": 27
        },
        {
          "output_type": "display_data",
          "data": {
            "text/plain": [
              "<Figure size 864x360 with 1 Axes>"
            ],
            "image/png": "[encoded data removed]"
          },
          "metadata": {
            "needs_background": "light"
          }
        }
      ]
    },
    {
      "cell_type": "code",
      "source": [
        "fig, ax = plt.subplots(figsize = (12,5))\n",
        "sns.despine(right = True)\n",
        "g = sns.barplot(x = 'Year', y = 'MatchesPlayed', data = world_cup_df)\n",
        "g.set_xticklabels(g.get_xticklabels(), rotation = 80)\n",
        "g.set_title('Each Teams played Per World Cup Year')"
      ],
      "metadata": {
        "colab": {
          "base_uri": "https://localhost:8080/",
          "height": 384
        },
        "id": "jH--pSd8uc01",
        "outputId": "1dc6dc11-bbac-401f-e348-eaeb23840296"
      },
      "execution_count": 28,
      "outputs": [
        {
          "output_type": "execute_result",
          "data": {
            "text/plain": [
              "Text(0.5, 1.0, 'Each Teams played Per World Cup Year')"
            ]
          },
          "metadata": {},
          "execution_count": 28
        },
        {
          "output_type": "display_data",
          "data": {
            "text/plain": [
              "<Figure size 864x360 with 1 Axes>"
            ],
            "image/png": "[encoded data removed]"
          },
          "metadata": {
            "needs_background": "light"
          }
        }
      ]
    },
    {
      "cell_type": "markdown",
      "source": [
        "Each world cup per teams gols"
      ],
      "metadata": {
        "id": "_dXk5eW9v0LM"
      }
    },
    {
      "cell_type": "code",
      "source": [
        "home_goals=world_cup_matches_df.groupby(['Year','Home Team Name'])['Home Team Goals'].sum()\n",
        "home_goals"
      ],
      "metadata": {
        "id": "YaHwFel0wHjN",
        "colab": {
          "base_uri": "https://localhost:8080/"
        },
        "outputId": "844568d4-2372-4e0c-8059-018fd161a9e5"
      },
      "execution_count": 29,
      "outputs": [
        {
          "output_type": "execute_result",
          "data": {
            "text/plain": [
              "Year    Home Team Name            \n",
              "1930.0  Argentina                     16.0\n",
              "        Brazil                         4.0\n",
              "        Chile                          4.0\n",
              "        France                         4.0\n",
              "        Paraguay                       1.0\n",
              "                                      ... \n",
              "2014.0  Spain                          1.0\n",
              "        Switzerland                    4.0\n",
              "        USA                            2.0\n",
              "        Uruguay                        3.0\n",
              "        rn\">Bosnia and Herzegovina     3.0\n",
              "Name: Home Team Goals, Length: 366, dtype: float64"
            ]
          },
          "metadata": {},
          "execution_count": 29
        }
      ]
    },
    {
      "cell_type": "code",
      "source": [
        "away_goals=world_cup_matches_df.groupby(['Year','Away Team Name'])['Away Team Goals'].sum()\n",
        "away_goals"
      ],
      "metadata": {
        "colab": {
          "base_uri": "https://localhost:8080/"
        },
        "id": "1LycqpYU9RGi",
        "outputId": "80a4f38c-b42d-4a1d-d9f8-4c656dc0f1c2"
      },
      "execution_count": 30,
      "outputs": [
        {
          "output_type": "execute_result",
          "data": {
            "text/plain": [
              "Year    Away Team Name            \n",
              "1930.0  Argentina                     2.0\n",
              "        Belgium                       0.0\n",
              "        Bolivia                       0.0\n",
              "        Brazil                        1.0\n",
              "        Chile                         1.0\n",
              "                                     ... \n",
              "2014.0  Spain                         3.0\n",
              "        Switzerland                   3.0\n",
              "        USA                           4.0\n",
              "        Uruguay                       1.0\n",
              "        rn\">Bosnia and Herzegovina    1.0\n",
              "Name: Away Team Goals, Length: 411, dtype: float64"
            ]
          },
          "metadata": {},
          "execution_count": 30
        }
      ]
    },
    {
      "cell_type": "code",
      "source": [
        "cup_year_goals=pd.concat([home_goals,away_goals],axis=1)\n",
        "cup_year_goals['Goals'] = cup_year_goals['Home Team Goals'] + cup_year_goals['Away Team Goals']\n",
        "cup_year_goals = cup_year_goals.drop(labels = ['Home Team Goals', 'Away Team Goals'], axis = 1)\n",
        "cup_year_goals"
      ],
      "metadata": {
        "id": "tW0ImaFpBPOI"
      },
      "execution_count": null,
      "outputs": []
    },
    {
      "cell_type": "code",
      "source": [
        "cup_year_goals=cup_year_goals.reset_index()"
      ],
      "metadata": {
        "id": "JtfpRRllhnSj"
      },
      "execution_count": 32,
      "outputs": []
    },
    {
      "cell_type": "code",
      "source": [
        "cup_year_goals.columns = ['Year', 'Country', 'Goals']\n",
        "cup_year_goals = cup_year_goals.sort_values(by = ['Year', 'Goals'], ascending = [True, False])\n",
        "cup_year_goals"
      ],
      "metadata": {
        "id": "0A9vbHkCjDiL"
      },
      "execution_count": null,
      "outputs": []
    },
    {
      "cell_type": "markdown",
      "source": [
        "Top 5 scored teams"
      ],
      "metadata": {
        "id": "GnxesFFjjsmk"
      }
    },
    {
      "cell_type": "code",
      "source": [
        "top_df=cup_year_goals.groupby(['Year'])\n",
        "top_df.head()"
      ],
      "metadata": {
        "id": "CcGc_loDjymi"
      },
      "execution_count": null,
      "outputs": []
    },
    {
      "cell_type": "markdown",
      "source": [
        "Matches With Heihest Number Of Attendance\n"
      ],
      "metadata": {
        "id": "x0xSc_LPsUty"
      }
    },
    {
      "cell_type": "code",
      "source": [
        "top10 = world_cup_matches_df.sort_values(by = 'Attendance', ascending = False)[1:10]\n",
        "top10['vs'] = top10['Home Team Name'] + \" vs \" + top10['Away Team Name']\n",
        "\n",
        "plt.figure(figsize = (12,10))\n",
        "\n",
        "ax = sns.barplot(y = top10['vs'], x = top10['Attendance'])\n",
        "sns.despine(right = True)\n",
        "\n",
        "plt.ylabel('Match Teams')\n",
        "plt.xlabel('Attendence')\n",
        "plt.title('Matches with the highest number of Attendence')\n",
        "\n",
        "for i, s in enumerate(\"Stadium: \" + top10['Stadium'] +\", Date: \" + top10['Datetime']):\n",
        "    ax.text(2000, i, s, fontsize = 12, color = 'yellow')\n",
        "plt.show()"
      ],
      "metadata": {
        "colab": {
          "base_uri": "https://localhost:8080/",
          "height": 621
        },
        "id": "6yIKp0tuz3BI",
        "outputId": "fde30030-368b-4f75-f765-afa5636fa3b6"
      },
      "execution_count": 79,
      "outputs": [
        {
          "output_type": "display_data",
          "data": {
            "text/plain": [
              "<Figure size 864x720 with 1 Axes>"
            ],
            "image/png": "[encoded data removed]"
          },
          "metadata": {
            "needs_background": "light"
          }
        }
      ]
    },
    {
      "cell_type": "markdown",
      "source": [
        "Stadium with Highest Average Attendance"
      ],
      "metadata": {
        "id": "JB0v0kf07IeS"
      }
    },
    {
      "cell_type": "code",
      "source": [
        "world_cup_matches_df['Year'] = world_cup_matches_df['Year'].astype(int)\n",
        "\n",
        "std = world_cup_matches_df.groupby(['Stadium', 'City'])['Attendance'].mean().reset_index().sort_values(by = 'Attendance', ascending =False)\n",
        "\n",
        "top10 = std[:10]\n",
        "\n",
        "plt.figure(figsize = (12,9))\n",
        "ax = sns.barplot(y = top10['Stadium'], x = top10['Attendance'])\n",
        "sns.despine(right = True)\n",
        "\n",
        "plt.ylabel('Stadium Names')\n",
        "plt.xlabel('Attendance')\n",
        "plt.title('Stadium with the heighest number of attendance')\n",
        "for i, s in enumerate(\"City: \" + top10['City']):\n",
        "        ax.text(2000, i, s, fontsize = 12, color = 'yellow')\n",
        "        \n",
        "plt.show()"
      ],
      "metadata": {
        "colab": {
          "base_uri": "https://localhost:8080/",
          "height": 567
        },
        "id": "-RMQ6uT35JPx",
        "outputId": "a1c6b1bd-16a3-48d2-bbb6-94afee0f6639"
      },
      "execution_count": 81,
      "outputs": [
        {
          "output_type": "display_data",
          "data": {
            "text/plain": [
              "<Figure size 864x648 with 1 Axes>"
            ],
            "image/png": "[encoded data removed]"
          },
          "metadata": {
            "needs_background": "light"
          }
        }
      ]
    },
    {
      "cell_type": "markdown",
      "source": [
        "Matches outcome by home and away matches"
      ],
      "metadata": {
        "id": "qn_iK_KWAPP9"
      }
    },
    {
      "cell_type": "code",
      "source": [
        "def match_winning(world_cup_matches_df):\n",
        "  if world_cup_matches_df['Home Team Goals']>world_cup_matches_df['Away Team Goals']:\n",
        "    return 'win home team'\n",
        "  elif world_cup_matches_df['Home Team Goals']<world_cup_matches_df['Away Team Goals']:\n",
        "    return 'win away team'\n",
        "  return 'Draw the match'\n"
      ],
      "metadata": {
        "id": "5XfDRVuGAYg7"
      },
      "execution_count": 97,
      "outputs": []
    },
    {
      "cell_type": "code",
      "source": [
        "world_cup_matches_df['Result']=world_cup_matches_df.apply(lambda x: match_winning(x), axis=1)\n",
        "\n",
        "world_cup_matches_df.head()"
      ],
      "metadata": {
        "id": "fRCW3lMWCBmM"
      },
      "execution_count": null,
      "outputs": []
    },
    {
      "cell_type": "code",
      "source": [
        "df=world_cup_matches_df['Result'].value_counts()\n",
        "df"
      ],
      "metadata": {
        "id": "XU2cOu1XDBwB"
      },
      "execution_count": null,
      "outputs": []
    },
    {
      "cell_type": "code",
      "source": [
        "plt.figure(figsize = (9,6))\n",
        "\n",
        "df.plot(kind='bar')\n",
        "plt.title('Match Outcomes by Home and Away Teams')\n",
        "plt.show()"
      ],
      "metadata": {
        "colab": {
          "base_uri": "https://localhost:8080/",
          "height": 460
        },
        "id": "zvFqQY9KFfJn",
        "outputId": "fe716cba-283f-44a7-e30f-35f903fa233e"
      },
      "execution_count": 116,
      "outputs": [
        {
          "output_type": "display_data",
          "data": {
            "text/plain": [
              "<Figure size 648x432 with 1 Axes>"
            ],
            "image/png": "[encoded data removed]"
          },
          "metadata": {
            "needs_background": "light"
          }
        }
      ]
    }
  ]
}